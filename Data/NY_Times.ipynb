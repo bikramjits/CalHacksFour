{
 "cells": [
  {
   "cell_type": "code",
   "execution_count": 6,
   "metadata": {
    "collapsed": true
   },
   "outputs": [],
   "source": [
    "from flask import Flask\n",
    "from flask import request\n",
    "import requests\n",
    "from flask import jsonify\n",
    "import pandas as pd\n",
    "from collections import OrderedDict\n",
    "import json\n"
   ]
  },
  {
   "cell_type": "code",
   "execution_count": 47,
   "metadata": {},
   "outputs": [
    {
     "data": {
      "text/plain": [
       "{'Date-Time': '2017-08-02T22:26:23+0000',\n",
       " 'Name': 'As Washington Tries to Protect Tech, China Could Fight Back',\n",
       " 'URL': 'https://www.nytimes.com/2017/08/02/business/china-trade-trump-technology.html'}"
      ]
     },
     "execution_count": 47,
     "metadata": {},
     "output_type": "execute_result"
    }
   ],
   "source": [
    "# app = Flask(__name__)\n",
    "# # @app.route(\"/\")\n",
    "# def hello():\n",
    "# #     return \"Hello World!\"\n",
    "#     df_articles = article_search(request.args.get('term'), request.args.get('begin'), request.args.get('end'))\n",
    "# #     df_stock_data = \n",
    "#     df_articles.join(df_stock_data, on=['Symbol', 'Date'])\n",
    "#     return \n",
    "\n",
    "def article_extract(article):\n",
    "    # art = article['response'][0]\n",
    "    return {'Name': article['headline']['main'],\n",
    "            'URL': article['web_url'],\n",
    "            'Date-Time': article['pub_date'] if 'pub_date' in article else ''\n",
    "\n",
    "    }\n",
    "\n",
    "def article_search(term, begin, end):\n",
    "#     data_search=[]\n",
    "    data_search = (requests.get(\"https://api.nytimes.com/svc/search/v2/articlesearch.json?api-key=28ec5f20ab074501b55d83ea93cec91b&q=%s&begin_date=%s&end_date=%s\"%(term, begin, end)))\n",
    "    return article_extract(data_search.json()['response']['docs'][0])\n",
    "\n",
    "    \n",
    "#     return article_extract(data_search)\n",
    "#     return jsonify(article_extract(data_search.json()['response']['docs'][0]))\n",
    "#     raw_bytes = data_search.content\n",
    "#     response_json = json.loads(raw_bytes)\n",
    "#     print('Parsed Response: {}'.format(response_json))\n",
    "#     article = article_extract(response_json['response']['docs'][0])\n",
    "#     print('Extracted Article: {}'.format(article))\n",
    "#     #return article\n",
    "#     df = pd.DataFrame.from_dict(article, orient='index')\n",
    "#     print(df.info())\n",
    "#     return jsonify(df.to_json())\n",
    "\n",
    "article_search('apple', \"20170802\", \"20170803\")"
   ]
  },
  {
   "cell_type": "code",
   "execution_count": 50,
   "metadata": {},
   "outputs": [
    {
     "data": {
      "text/plain": [
       "{'Date-Time': '2017-08-02T22:26:23+0000',\n",
       " 'Name': 'As Washington Tries to Protect Tech, China Could Fight Back',\n",
       " 'URL': 'https://www.nytimes.com/2017/08/02/business/china-trade-trump-technology.html'}"
      ]
     },
     "execution_count": 50,
     "metadata": {},
     "output_type": "execute_result"
    }
   ],
   "source": [
    "ok='2017-08-02T22:26:23+0000'[0:10].replace(\"-\", \"\")\n",
    "article_search('apple', ok, \"20170803\")"
   ]
  },
  {
   "cell_type": "code",
   "execution_count": null,
   "metadata": {},
   "outputs": [],
   "source": [
    "for i in arange()"
   ]
  },
  {
   "cell_type": "code",
   "execution_count": 36,
   "metadata": {},
   "outputs": [],
   "source": [
    "x=[{'Date-Time': '2017-08-01T13:56:03+0000',\n",
    " 'Name': 'Switching Your Browser Loyalty',\n",
    " 'URL': 'https://www.nytimes.com/2017/08/01/technology/personaltech/switching-default-browsers.html'}, {'Date-Time': '2017-08-01T21:10:45+0000',\n",
    " 'Name': 'Apple Sales Exceed Expectations as Buyers Wait for New iPhones',\n",
    " 'URL': 'https://www.nytimes.com/2017/08/01/technology/apple-iphone-earnings.html'}]"
   ]
  },
  {
   "cell_type": "code",
   "execution_count": 31,
   "metadata": {},
   "outputs": [
    {
     "data": {
      "text/plain": [
       "{'Date-Time': '2017-08-01T13:56:03+0000',\n",
       " 'Name': 'Switching Your Browser Loyalty',\n",
       " 'URL': 'https://www.nytimes.com/2017/08/01/technology/personaltech/switching-default-browsers.html'}"
      ]
     },
     "execution_count": 31,
     "metadata": {},
     "output_type": "execute_result"
    }
   ],
   "source": [
    "x"
   ]
  },
  {
   "cell_type": "code",
   "execution_count": 32,
   "metadata": {},
   "outputs": [
    {
     "data": {
      "text/plain": [
       "'2017-08-01T13:56:03+0000'"
      ]
     },
     "execution_count": 32,
     "metadata": {},
     "output_type": "execute_result"
    }
   ],
   "source": [
    "datetime.strptime(x['Date-Time'] , '%Y-%m-%d')"
   ]
  },
  {
   "cell_type": "code",
   "execution_count": 33,
   "metadata": {},
   "outputs": [
    {
     "data": {
      "text/plain": [
       "'Switching Your Browser Loyalty'"
      ]
     },
     "execution_count": 33,
     "metadata": {},
     "output_type": "execute_result"
    }
   ],
   "source": [
    "x['Name']"
   ]
  },
  {
   "cell_type": "code",
   "execution_count": 40,
   "metadata": {},
   "outputs": [
    {
     "data": {
      "text/plain": [
       "'Switching Your Browser Loyalty'"
      ]
     },
     "execution_count": 40,
     "metadata": {},
     "output_type": "execute_result"
    }
   ],
   "source": [
    "x[0]['Name']"
   ]
  },
  {
   "cell_type": "code",
   "execution_count": null,
   "metadata": {
    "collapsed": true
   },
   "outputs": [],
   "source": []
  }
 ],
 "metadata": {
  "kernelspec": {
   "display_name": "Python 3",
   "language": "python",
   "name": "python3"
  },
  "language_info": {
   "codemirror_mode": {
    "name": "ipython",
    "version": 3
   },
   "file_extension": ".py",
   "mimetype": "text/x-python",
   "name": "python",
   "nbconvert_exporter": "python",
   "pygments_lexer": "ipython3",
   "version": "3.6.1"
  }
 },
 "nbformat": 4,
 "nbformat_minor": 2
}
