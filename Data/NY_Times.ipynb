{
 "cells": [
  {
   "cell_type": "markdown",
   "metadata": {},
   "source": []
  },
  {
   "cell_type": "code",
   "execution_count": 2,
   "metadata": {
    "collapsed": true
   },
   "outputs": [],
   "source": [
    "from flask import Flask\n",
    "from flask import request\n",
    "import requests\n",
    "from flask import jsonify\n",
    "import pandas as pd\n",
    "from collections import OrderedDict\n",
    "import json\n",
    "from datascience import *\n",
    "import numpy as np\n",
    "from time import sleep\n",
    "import datetime"
   ]
  },
  {
   "cell_type": "code",
   "execution_count": 3,
   "metadata": {},
   "outputs": [
    {
     "data": {
      "text/plain": [
       "{'Date-Time': '2017-08-09T09:13:41+0000',\n",
       " 'Name': 'Google’s War Over the Sexes',\n",
       " 'URL': 'https://www.nytimes.com/2017/08/09/opinion/google-women-memo.html'}"
      ]
     },
     "execution_count": 3,
     "metadata": {},
     "output_type": "execute_result"
    }
   ],
   "source": [
    "# app = Flask(__name__)\n",
    "# # @app.route(\"/\")\n",
    "# def hello():\n",
    "# #     return \"Hello World!\"\n",
    "#     df_articles = article_search(request.args.get('term'), request.args.get('begin'), request.args.get('end'))\n",
    "# #     df_stock_data = \n",
    "#     df_articles.join(df_stock_data, on=['Symbol', 'Date'])\n",
    "#     return \n",
    "\n",
    "def article_extract(article):\n",
    "    # art = article['response'][0]\n",
    "    return {'Name': article['headline']['main'],\n",
    "            'URL': article['web_url'],\n",
    "            'Date-Time': article['pub_date'] if 'pub_date' in article else ''\n",
    "\n",
    "    }\n",
    "\n",
    "def article_search(term, begin, end):\n",
    "#     data_search=[]\n",
    "    data_search = (requests.get\n",
    "                   (\"https://api.nytimes.com/svc/search/v2/articlesearch.json?api-key=28ec5f20ab074501b55d83ea93cec91b&q=%s&begin_date=%s&end_date=%s\"%\n",
    "                    (term, begin, end)))\n",
    "    return article_extract(data_search.json()['response']['docs'][0])\n",
    "\n",
    "    \n",
    "#     return article_extract(data_search)\n",
    "#     return jsonify(article_extract(data_search.json()['response']['docs'][0]))\n",
    "#     raw_bytes = data_search.content\n",
    "#     response_json = json.loads(raw_bytes)\n",
    "#     print('Parsed Response: {}'.format(response_json))\n",
    "#     article = article_extract(response_json['response']['docs'][0])\n",
    "#     print('Extracted Article: {}'.format(article))\n",
    "#     #return article\n",
    "#     df = pd.DataFrame.from_dict(article, orient='index')\n",
    "#     print(df.info())\n",
    "#     return jsonify(df.to_json())\n",
    "\n",
    "article_search('apple', \"20170809\", \"20170810\")"
   ]
  },
  {
   "cell_type": "code",
   "execution_count": 4,
   "metadata": {},
   "outputs": [
    {
     "data": {
      "text/plain": [
       "{'Date-Time': '2017-08-02T22:26:23+0000',\n",
       " 'Name': 'As Washington Tries to Protect Tech, China Could Fight Back',\n",
       " 'URL': 'https://www.nytimes.com/2017/08/02/business/china-trade-trump-technology.html'}"
      ]
     },
     "execution_count": 4,
     "metadata": {},
     "output_type": "execute_result"
    }
   ],
   "source": [
    "ok='2017-08-02T22:26:23+0000'[0:10].replace(\"-\", \"\")\n",
    "article_search('apple', ok, \"20170803\")"
   ]
  },
  {
   "cell_type": "code",
   "execution_count": 5,
   "metadata": {},
   "outputs": [
    {
     "name": "stdout",
     "output_type": "stream",
     "text": [
      "[{'Name': 'As Washington Tries to Protect Tech, China Could Fight Back', 'URL': 'https://www.nytimes.com/2017/08/02/business/china-trade-trump-technology.html', 'Date-Time': '2017-08-02T22:26:23+0000'}, {'Name': '', 'URL': 'https://cooking.nytimes.com/recipes/1018847-apple-or-pear-jam', 'Date-Time': '2017-08-07T04:00:00+0000'}, {'Name': 'Matthew Prince of Cloudflare on the Dangers of Fast Growth', 'URL': 'https://www.nytimes.com/2017/08/11/business/corner-office-matthew-prince-cloudflare.html', 'Date-Time': '2017-08-11T11:00:15+0000'}, {'Name': 'Why Apple Is Experiencing Another Growth Spurt', 'URL': 'https://www.nytimes.com/2017/08/02/technology/apple-earnings-growth-iphone.html', 'Date-Time': '2017-08-03T01:03:28+0000'}, {'Name': '', 'URL': 'https://cooking.nytimes.com/recipes/1018847-apple-or-pear-jam', 'Date-Time': '2017-08-07T04:00:00+0000'}, {'Name': 'Cider Moves Beyond the Apple', 'URL': 'https://www.nytimes.com/2017/08/18/dining/cider-fruit-pear.html', 'Date-Time': '2017-08-18T19:28:12+0000'}, {'Name': 'As Washington Tries to Protect Tech, China Could Fight Back', 'URL': 'https://www.nytimes.com/2017/08/02/business/china-trade-trump-technology.html', 'Date-Time': '2017-08-02T22:26:23+0000'}, {'Name': '', 'URL': 'https://cooking.nytimes.com/recipes/1018847-apple-or-pear-jam', 'Date-Time': '2017-08-07T04:00:00+0000'}, {'Name': 'Matthew Prince of Cloudflare on the Dangers of Fast Growth', 'URL': 'https://www.nytimes.com/2017/08/11/business/corner-office-matthew-prince-cloudflare.html', 'Date-Time': '2017-08-11T11:00:15+0000'}, {'Name': 'Why Apple Is Experiencing Another Growth Spurt', 'URL': 'https://www.nytimes.com/2017/08/02/technology/apple-earnings-growth-iphone.html', 'Date-Time': '2017-08-03T01:03:28+0000'}, {'Name': '', 'URL': 'https://cooking.nytimes.com/recipes/1018847-apple-or-pear-jam', 'Date-Time': '2017-08-07T04:00:00+0000'}, {'Name': 'Cider Moves Beyond the Apple', 'URL': 'https://www.nytimes.com/2017/08/18/dining/cider-fruit-pear.html', 'Date-Time': '2017-08-18T19:28:12+0000'}]\n"
     ]
    },
    {
     "data": {
      "text/plain": [
       "list"
      ]
     },
     "execution_count": 5,
     "metadata": {},
     "output_type": "execute_result"
    }
   ],
   "source": [
    "array_1= make_array(\"20170802\", \"20170807\", \"20170811\", \"20170803\", \"20170807\", \"20170818\", \"20170802\", \"20170807\", \"20170811\", \"20170803\", \"20170807\", \"20170818\")\n",
    "array_2= make_array(\"20170803\", \"20170808\", \"20170812\", \"20170804\", \"20170809\", \"20170819\", \"20170803\", \"20170808\", \"20170812\", \"20170804\", \"20170809\", \"20170819\")\n",
    "head=[]\n",
    "for i in np.arange(12):\n",
    "    head[len(head):] = [article_search('apple', array_1[i], array_2[i])]\n",
    "    sleep(0.8)\n",
    "print(head)\n",
    "type(head)"
   ]
  },
  {
   "cell_type": "code",
   "execution_count": 6,
   "metadata": {},
   "outputs": [
    {
     "data": {
      "text/html": [
       "<div>\n",
       "<style>\n",
       "    .dataframe thead tr:only-child th {\n",
       "        text-align: right;\n",
       "    }\n",
       "\n",
       "    .dataframe thead th {\n",
       "        text-align: left;\n",
       "    }\n",
       "\n",
       "    .dataframe tbody tr th {\n",
       "        vertical-align: top;\n",
       "    }\n",
       "</style>\n",
       "<table border=\"1\" class=\"dataframe\">\n",
       "  <thead>\n",
       "    <tr style=\"text-align: right;\">\n",
       "      <th></th>\n",
       "      <th>Date-Time</th>\n",
       "      <th>Name</th>\n",
       "      <th>URL</th>\n",
       "    </tr>\n",
       "  </thead>\n",
       "  <tbody>\n",
       "    <tr>\n",
       "      <th>0</th>\n",
       "      <td>2017-08-02T22:26:23+0000</td>\n",
       "      <td>As Washington Tries to Protect Tech, China Cou...</td>\n",
       "      <td>https://www.nytimes.com/2017/08/02/business/ch...</td>\n",
       "    </tr>\n",
       "    <tr>\n",
       "      <th>1</th>\n",
       "      <td>2017-08-07T04:00:00+0000</td>\n",
       "      <td></td>\n",
       "      <td>https://cooking.nytimes.com/recipes/1018847-ap...</td>\n",
       "    </tr>\n",
       "    <tr>\n",
       "      <th>2</th>\n",
       "      <td>2017-08-11T11:00:15+0000</td>\n",
       "      <td>Matthew Prince of Cloudflare on the Dangers of...</td>\n",
       "      <td>https://www.nytimes.com/2017/08/11/business/co...</td>\n",
       "    </tr>\n",
       "    <tr>\n",
       "      <th>3</th>\n",
       "      <td>2017-08-03T01:03:28+0000</td>\n",
       "      <td>Why Apple Is Experiencing Another Growth Spurt</td>\n",
       "      <td>https://www.nytimes.com/2017/08/02/technology/...</td>\n",
       "    </tr>\n",
       "    <tr>\n",
       "      <th>4</th>\n",
       "      <td>2017-08-07T04:00:00+0000</td>\n",
       "      <td></td>\n",
       "      <td>https://cooking.nytimes.com/recipes/1018847-ap...</td>\n",
       "    </tr>\n",
       "    <tr>\n",
       "      <th>5</th>\n",
       "      <td>2017-08-18T19:28:12+0000</td>\n",
       "      <td>Cider Moves Beyond the Apple</td>\n",
       "      <td>https://www.nytimes.com/2017/08/18/dining/cide...</td>\n",
       "    </tr>\n",
       "    <tr>\n",
       "      <th>6</th>\n",
       "      <td>2017-08-02T22:26:23+0000</td>\n",
       "      <td>As Washington Tries to Protect Tech, China Cou...</td>\n",
       "      <td>https://www.nytimes.com/2017/08/02/business/ch...</td>\n",
       "    </tr>\n",
       "    <tr>\n",
       "      <th>7</th>\n",
       "      <td>2017-08-07T04:00:00+0000</td>\n",
       "      <td></td>\n",
       "      <td>https://cooking.nytimes.com/recipes/1018847-ap...</td>\n",
       "    </tr>\n",
       "    <tr>\n",
       "      <th>8</th>\n",
       "      <td>2017-08-11T11:00:15+0000</td>\n",
       "      <td>Matthew Prince of Cloudflare on the Dangers of...</td>\n",
       "      <td>https://www.nytimes.com/2017/08/11/business/co...</td>\n",
       "    </tr>\n",
       "    <tr>\n",
       "      <th>9</th>\n",
       "      <td>2017-08-03T01:03:28+0000</td>\n",
       "      <td>Why Apple Is Experiencing Another Growth Spurt</td>\n",
       "      <td>https://www.nytimes.com/2017/08/02/technology/...</td>\n",
       "    </tr>\n",
       "    <tr>\n",
       "      <th>10</th>\n",
       "      <td>2017-08-07T04:00:00+0000</td>\n",
       "      <td></td>\n",
       "      <td>https://cooking.nytimes.com/recipes/1018847-ap...</td>\n",
       "    </tr>\n",
       "    <tr>\n",
       "      <th>11</th>\n",
       "      <td>2017-08-18T19:28:12+0000</td>\n",
       "      <td>Cider Moves Beyond the Apple</td>\n",
       "      <td>https://www.nytimes.com/2017/08/18/dining/cide...</td>\n",
       "    </tr>\n",
       "  </tbody>\n",
       "</table>\n",
       "</div>"
      ],
      "text/plain": [
       "                   Date-Time  \\\n",
       "0   2017-08-02T22:26:23+0000   \n",
       "1   2017-08-07T04:00:00+0000   \n",
       "2   2017-08-11T11:00:15+0000   \n",
       "3   2017-08-03T01:03:28+0000   \n",
       "4   2017-08-07T04:00:00+0000   \n",
       "5   2017-08-18T19:28:12+0000   \n",
       "6   2017-08-02T22:26:23+0000   \n",
       "7   2017-08-07T04:00:00+0000   \n",
       "8   2017-08-11T11:00:15+0000   \n",
       "9   2017-08-03T01:03:28+0000   \n",
       "10  2017-08-07T04:00:00+0000   \n",
       "11  2017-08-18T19:28:12+0000   \n",
       "\n",
       "                                                 Name  \\\n",
       "0   As Washington Tries to Protect Tech, China Cou...   \n",
       "1                                                       \n",
       "2   Matthew Prince of Cloudflare on the Dangers of...   \n",
       "3      Why Apple Is Experiencing Another Growth Spurt   \n",
       "4                                                       \n",
       "5                        Cider Moves Beyond the Apple   \n",
       "6   As Washington Tries to Protect Tech, China Cou...   \n",
       "7                                                       \n",
       "8   Matthew Prince of Cloudflare on the Dangers of...   \n",
       "9      Why Apple Is Experiencing Another Growth Spurt   \n",
       "10                                                      \n",
       "11                       Cider Moves Beyond the Apple   \n",
       "\n",
       "                                                  URL  \n",
       "0   https://www.nytimes.com/2017/08/02/business/ch...  \n",
       "1   https://cooking.nytimes.com/recipes/1018847-ap...  \n",
       "2   https://www.nytimes.com/2017/08/11/business/co...  \n",
       "3   https://www.nytimes.com/2017/08/02/technology/...  \n",
       "4   https://cooking.nytimes.com/recipes/1018847-ap...  \n",
       "5   https://www.nytimes.com/2017/08/18/dining/cide...  \n",
       "6   https://www.nytimes.com/2017/08/02/business/ch...  \n",
       "7   https://cooking.nytimes.com/recipes/1018847-ap...  \n",
       "8   https://www.nytimes.com/2017/08/11/business/co...  \n",
       "9   https://www.nytimes.com/2017/08/02/technology/...  \n",
       "10  https://cooking.nytimes.com/recipes/1018847-ap...  \n",
       "11  https://www.nytimes.com/2017/08/18/dining/cide...  "
      ]
     },
     "execution_count": 6,
     "metadata": {},
     "output_type": "execute_result"
    }
   ],
   "source": [
    "test = pd.DataFrame.from_dict(head)\n",
    "test\n"
   ]
  },
  {
   "cell_type": "code",
   "execution_count": 7,
   "metadata": {
    "collapsed": true
   },
   "outputs": [],
   "source": [
    "x=[{'Date-Time': '2017-08-01T13:56:03+0000',\n",
    " 'Name': 'Switching Your Browser Loyalty',\n",
    " 'URL': 'https://www.nytimes.com/2017/08/01/technology/personaltech/switching-default-browsers.html'}, {'Date-Time': '2017-08-01T21:10:45+0000',\n",
    " 'Name': 'Apple Sales Exceed Expectations as Buyers Wait for New iPhones',\n",
    " 'URL': 'https://www.nytimes.com/2017/08/01/technology/apple-iphone-earnings.html'}]"
   ]
  },
  {
   "cell_type": "code",
   "execution_count": 8,
   "metadata": {},
   "outputs": [
    {
     "data": {
      "text/plain": [
       "[{'Date-Time': '2017-08-01T13:56:03+0000',\n",
       "  'Name': 'Switching Your Browser Loyalty',\n",
       "  'URL': 'https://www.nytimes.com/2017/08/01/technology/personaltech/switching-default-browsers.html'},\n",
       " {'Date-Time': '2017-08-01T21:10:45+0000',\n",
       "  'Name': 'Apple Sales Exceed Expectations as Buyers Wait for New iPhones',\n",
       "  'URL': 'https://www.nytimes.com/2017/08/01/technology/apple-iphone-earnings.html'}]"
      ]
     },
     "execution_count": 8,
     "metadata": {},
     "output_type": "execute_result"
    }
   ],
   "source": [
    "x"
   ]
  },
  {
   "cell_type": "code",
   "execution_count": 9,
   "metadata": {},
   "outputs": [
    {
     "ename": "AttributeError",
     "evalue": "module 'datetime' has no attribute 'strptime'",
     "output_type": "error",
     "traceback": [
      "\u001b[0;31m---------------------------------------------------------------------------\u001b[0m",
      "\u001b[0;31mAttributeError\u001b[0m                            Traceback (most recent call last)",
      "\u001b[0;32m<ipython-input-9-0955b34f6b6e>\u001b[0m in \u001b[0;36m<module>\u001b[0;34m()\u001b[0m\n\u001b[0;32m----> 1\u001b[0;31m \u001b[0mdatetime\u001b[0m\u001b[0;34m.\u001b[0m\u001b[0mstrptime\u001b[0m\u001b[0;34m(\u001b[0m\u001b[0mx\u001b[0m\u001b[0;34m[\u001b[0m\u001b[0;34m'Date-Time'\u001b[0m\u001b[0;34m]\u001b[0m \u001b[0;34m,\u001b[0m \u001b[0;34m'%Y-%m-%d'\u001b[0m\u001b[0;34m)\u001b[0m\u001b[0;34m\u001b[0m\u001b[0m\n\u001b[0m",
      "\u001b[0;31mAttributeError\u001b[0m: module 'datetime' has no attribute 'strptime'"
     ]
    }
   ],
   "source": [
    "datetime.strptime(x['Date-Time'] , '%Y-%m-%d')"
   ]
  },
  {
   "cell_type": "code",
   "execution_count": null,
   "metadata": {
    "collapsed": true
   },
   "outputs": [],
   "source": [
    "x['Name']"
   ]
  },
  {
   "cell_type": "code",
   "execution_count": null,
   "metadata": {
    "collapsed": true
   },
   "outputs": [],
   "source": [
    "x[0]['Name']"
   ]
  },
  {
   "cell_type": "code",
   "execution_count": null,
   "metadata": {
    "collapsed": true
   },
   "outputs": [],
   "source": [
    "data_search_test = (requests.get(\"https://api.nytimes.com/svc/search/v2/articlesearch.json?api-key=28ec5f20ab074501b55d83ea93cec91b&q=%s&begin_date=%s&end_date=%s\"%('apple', '20170802', '20170803')))\n"
   ]
  },
  {
   "cell_type": "code",
   "execution_count": null,
   "metadata": {
    "collapsed": true
   },
   "outputs": [],
   "source": [
    "data_search_test.json()"
   ]
  },
  {
   "cell_type": "code",
   "execution_count": 150,
   "metadata": {
    "collapsed": true
   },
   "outputs": [],
   "source": [
    "apple = Table.read_table('AAPL(4).csv').where(1, are.not_equal_to('null'))"
   ]
  },
  {
   "cell_type": "code",
   "execution_count": 151,
   "metadata": {},
   "outputs": [
    {
     "data": {
      "text/html": [
       "<table border=\"1\" class=\"dataframe\">\n",
       "    <thead>\n",
       "        <tr>\n",
       "            <th>Date</th> <th>Open</th> <th>High</th> <th>Low</th> <th>Close</th> <th>Adj Close</th> <th>Volume</th>\n",
       "        </tr>\n",
       "    </thead>\n",
       "    <tbody>\n",
       "        <tr>\n",
       "            <td>2017-07-07</td> <td>142.9 </td> <td>144.75</td> <td>142.9 </td> <td>144.18</td> <td>143.616  </td> <td>19201700</td>\n",
       "        </tr>\n",
       "    </tbody>\n",
       "        <tr>\n",
       "            <td>2017-07-10</td> <td>144.11</td> <td>145.95</td> <td>143.37</td> <td>145.06</td> <td>144.493  </td> <td>21090600</td>\n",
       "        </tr>\n",
       "    </tbody>\n",
       "        <tr>\n",
       "            <td>2017-07-11</td> <td>144.73</td> <td>145.85</td> <td>144.38</td> <td>145.53</td> <td>144.961  </td> <td>19781800</td>\n",
       "        </tr>\n",
       "    </tbody>\n",
       "        <tr>\n",
       "            <td>2017-07-12</td> <td>145.87</td> <td>146.18</td> <td>144.82</td> <td>145.74</td> <td>145.17   </td> <td>24884500</td>\n",
       "        </tr>\n",
       "    </tbody>\n",
       "        <tr>\n",
       "            <td>2017-07-13</td> <td>145.5 </td> <td>148.49</td> <td>145.44</td> <td>147.77</td> <td>147.192  </td> <td>25199400</td>\n",
       "        </tr>\n",
       "    </tbody>\n",
       "        <tr>\n",
       "            <td>2017-07-14</td> <td>147.97</td> <td>149.33</td> <td>147.33</td> <td>149.04</td> <td>148.457  </td> <td>20132100</td>\n",
       "        </tr>\n",
       "    </tbody>\n",
       "        <tr>\n",
       "            <td>2017-07-17</td> <td>148.82</td> <td>150.9 </td> <td>148.57</td> <td>149.56</td> <td>148.975  </td> <td>23793500</td>\n",
       "        </tr>\n",
       "    </tbody>\n",
       "        <tr>\n",
       "            <td>2017-07-18</td> <td>149.2 </td> <td>150.13</td> <td>148.67</td> <td>150.08</td> <td>149.493  </td> <td>17868800</td>\n",
       "        </tr>\n",
       "    </tbody>\n",
       "        <tr>\n",
       "            <td>2017-07-19</td> <td>150.48</td> <td>151.42</td> <td>149.95</td> <td>151.02</td> <td>150.429  </td> <td>20923000</td>\n",
       "        </tr>\n",
       "    </tbody>\n",
       "        <tr>\n",
       "            <td>2017-07-20</td> <td>151.5 </td> <td>151.74</td> <td>150.19</td> <td>150.34</td> <td>149.752  </td> <td>17243700</td>\n",
       "        </tr>\n",
       "    </tbody>\n",
       "</table>\n",
       "<p>... (55 rows omitted)</p"
      ],
      "text/plain": [
       "Date       | Open   | High   | Low    | Close  | Adj Close | Volume\n",
       "2017-07-07 | 142.9  | 144.75 | 142.9  | 144.18 | 143.616   | 19201700\n",
       "2017-07-10 | 144.11 | 145.95 | 143.37 | 145.06 | 144.493   | 21090600\n",
       "2017-07-11 | 144.73 | 145.85 | 144.38 | 145.53 | 144.961   | 19781800\n",
       "2017-07-12 | 145.87 | 146.18 | 144.82 | 145.74 | 145.17    | 24884500\n",
       "2017-07-13 | 145.5  | 148.49 | 145.44 | 147.77 | 147.192   | 25199400\n",
       "2017-07-14 | 147.97 | 149.33 | 147.33 | 149.04 | 148.457   | 20132100\n",
       "2017-07-17 | 148.82 | 150.9  | 148.57 | 149.56 | 148.975   | 23793500\n",
       "2017-07-18 | 149.2  | 150.13 | 148.67 | 150.08 | 149.493   | 17868800\n",
       "2017-07-19 | 150.48 | 151.42 | 149.95 | 151.02 | 150.429   | 20923000\n",
       "2017-07-20 | 151.5  | 151.74 | 150.19 | 150.34 | 149.752   | 17243700\n",
       "... (55 rows omitted)"
      ]
     },
     "execution_count": 151,
     "metadata": {},
     "output_type": "execute_result"
    }
   ],
   "source": [
    "apple"
   ]
  },
  {
   "cell_type": "code",
   "execution_count": 153,
   "metadata": {
    "collapsed": true
   },
   "outputs": [],
   "source": [
    "def getDate (date): \n",
    "    return int(date[5:7])\n",
    "date_data = pd.to_datetime(apple.column(0))"
   ]
  },
  {
   "cell_type": "code",
   "execution_count": 154,
   "metadata": {
    "collapsed": true
   },
   "outputs": [],
   "source": [
    "justdates = Table().with_columns(\"Date\", date_data, \"High\", apple.column(2), \"Low\", apple.column(3))"
   ]
  },
  {
   "cell_type": "code",
   "execution_count": null,
   "metadata": {
    "collapsed": true
   },
   "outputs": [],
   "source": []
  }
 ],
 "metadata": {
  "kernelspec": {
   "display_name": "Python 3",
   "language": "python",
   "name": "python3"
  },
  "language_info": {
   "codemirror_mode": {
    "name": "ipython",
    "version": 3
   },
   "file_extension": ".py",
   "mimetype": "text/x-python",
   "name": "python",
   "nbconvert_exporter": "python",
   "pygments_lexer": "ipython3",
   "version": "3.6.1"
  }
 },
 "nbformat": 4,
 "nbformat_minor": 2
}
