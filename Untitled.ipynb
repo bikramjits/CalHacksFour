{
 "cells": [
  {
   "cell_type": "code",
   "execution_count": 3,
   "metadata": {
    "collapsed": true
   },
   "outputs": [],
   "source": [
    "import numpy as np\n",
    "from datascience import *\n",
    "import datetime as dt\n",
    "import pandas as pd\n",
    "import websocket\n",
    "import threading\n",
    "import time\n",
    "import json\n",
    "import argparse\n",
    "\n",
    "# These lines set up graphing capabilities.\n",
    "import matplotlib\n",
    "%matplotlib inline\n",
    "import matplotlib.pyplot as plt\n",
    "plt.style.use('fivethirtyeight')\n",
    "import warnings\n",
    "warnings.simplefilter('ignore', FutureWarning)\n",
    "\n",
    "from ipywidgets import interact, interactive, fixed, interact_manual\n",
    "import ipywidgets as widgets"
   ]
  },
  {
   "cell_type": "code",
   "execution_count": 4,
   "metadata": {
    "collapsed": false
   },
   "outputs": [
    {
     "name": "stderr",
     "output_type": "stream",
     "text": [
      "usage: __main__.py [-h] --start_date START_DATE --end_date END_DATE --symbols\n",
      "                   SYMBOLS\n",
      "__main__.py: error: the following arguments are required: --start_date, --end_date, --symbols\n"
     ]
    },
    {
     "ename": "SystemExit",
     "evalue": "2",
     "output_type": "error",
     "traceback": [
      "An exception has occurred, use %tb to see the full traceback.\n",
      "\u001b[0;31mSystemExit\u001b[0m\u001b[0;31m:\u001b[0m 2\n"
     ]
    },
    {
     "name": "stderr",
     "output_type": "stream",
     "text": [
      "/Users/Kush/anaconda/lib/python3.5/site-packages/IPython/core/interactiveshell.py:2889: UserWarning: To exit: use 'exit', 'quit', or Ctrl-D.\n",
      "  warn(\"To exit: use 'exit', 'quit', or Ctrl-D.\", stacklevel=1)\n"
     ]
    }
   ],
   "source": [
    "data = []\n",
    "\n",
    "def on_message(ws, message):\n",
    "    data.append(message)\n",
    "   # print(message)\n",
    "\n",
    "def on_error(ws, error):\n",
    "   print(error)\n",
    "\n",
    "def on_close(ws):\n",
    "   print(\"### closed ###\")\n",
    "\n",
    "def on_open(ws):\n",
    "   def run():\n",
    "       ws.send(\"\")\n",
    "       time.sleep(1)\n",
    "       ws.close()\n",
    "   threading.Thread(target=run).start()\n",
    "\n",
    "def main():\n",
    "   parser = argparse.ArgumentParser(description='gettin some market data')\n",
    "   parser.add_argument('--start_date', required=True, help=\"Enter a valid start date in YYYYMMDD format\")\n",
    "   parser.add_argument('--end_date', required=True, help=\"Enter a valid end date in YYYYMMDD format\")\n",
    "   parser.add_argument('--symbols', required=True, help=\"Enter a ticker symbol or list of tickers. E.g. NDAQ or NDAQ,AAPL,MSFT\")\n",
    "\n",
    "   args = parser.parse_args()\n",
    "\n",
    "   websocket.enableTrace(True)\n",
    "\n",
    "   symbols = args.symbols.split(',')\n",
    "\n",
    "   for symbol in symbols:\n",
    "       url = 'ws://34.214.11.52/stream?symbol={}&start={}&end={}'.format(symbol,args.start_date,args.end_date)\n",
    "\n",
    "       ws = websocket.WebSocketApp(url,\n",
    "                                   on_message = on_message,\n",
    "                                   on_error = on_error,\n",
    "                                   on_close = on_close)\n",
    "       ws.on_open = on_open\n",
    "       ws.run_forever()\n",
    "   for item in data:\n",
    "        json_data = json.loads(item)\n",
    "        print(json_data['Symbol'] + '---' + str(json_data['Close']))\n",
    "\n",
    "if __name__ == \"__main__\":\n",
    "  main()\n"
   ]
  },
  {
   "cell_type": "code",
   "execution_count": null,
   "metadata": {
    "collapsed": true
   },
   "outputs": [],
   "source": []
  }
 ],
 "metadata": {
  "kernelspec": {
   "display_name": "Python [default]",
   "language": "python",
   "name": "python3"
  },
  "language_info": {
   "codemirror_mode": {
    "name": "ipython",
    "version": 3
   },
   "file_extension": ".py",
   "mimetype": "text/x-python",
   "name": "python",
   "nbconvert_exporter": "python",
   "pygments_lexer": "ipython3",
   "version": "3.5.2"
  }
 },
 "nbformat": 4,
 "nbformat_minor": 1
}
